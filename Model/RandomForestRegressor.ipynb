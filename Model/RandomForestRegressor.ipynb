{
  "cells": [
    {
      "cell_type": "markdown",
      "metadata": {
        "id": "pPq6i7fvaUu8"
      },
      "source": [
        "# **Model Building And Intrepretation**"
      ]
    },
    {
      "cell_type": "markdown",
      "source": [
        "### **Required Library**"
      ],
      "metadata": {
        "id": "0pdke7wgRwH6"
      }
    },
    {
      "cell_type": "code",
      "execution_count": 1,
      "metadata": {
        "id": "P1d5cnp6aoJg"
      },
      "outputs": [],
      "source": [
        "import pandas as pd\n",
        "from sklearn.model_selection import train_test_split\n",
        "from sklearn.metrics import mean_absolute_error, mean_squared_error, r2_score\n",
        "from sklearn.tree import DecisionTreeRegressor\n",
        "from sklearn.ensemble import ExtraTreesRegressor\n",
        "from sklearn.ensemble import RandomForestRegressor\n",
        "from sklearn.ensemble import AdaBoostRegressor\n",
        "from sklearn.preprocessing import StandardScaler\n",
        "from sklearn.ensemble import GradientBoostingRegressor\n",
        "from xgboost import XGBRegressor\n",
        "import pickle\n",
        "import pandas as pd\n",
        "import matplotlib.pyplot as plt\n",
        "import seaborn as sns\n",
        "import numpy as np"
      ]
    },
    {
      "cell_type": "markdown",
      "source": [
        "### **Data Collection**"
      ],
      "metadata": {
        "id": "PrFgqxEPSKXn"
      }
    },
    {
      "cell_type": "code",
      "source": [
        "df = pd.read_csv('/content/drive/MyDrive/GUVI FINAL PROJRCT/RFS_Cleaned_Dataset.csv')"
      ],
      "metadata": {
        "id": "zB6wKjrA6Zzh"
      },
      "execution_count": 2,
      "outputs": []
    },
    {
      "cell_type": "code",
      "source": [
        "df"
      ],
      "metadata": {
        "colab": {
          "base_uri": "https://localhost:8080/",
          "height": 0
        },
        "id": "DGG1w44AR6cg",
        "outputId": "88292c88-e335-4049-fc94-5a98c3ac9cf8"
      },
      "execution_count": 3,
      "outputs": [
        {
          "output_type": "execute_result",
          "data": {
            "text/plain": [
              "        Store  Dept  IsHoliday  Temperature  Fuel_Price  Day  Month  Year  \\\n",
              "0           1     1          0        42.31       2.572    5      2  2010   \n",
              "1           1     2          0        42.31       2.572    5      2  2010   \n",
              "2           1     3          0        42.31       2.572    5      2  2010   \n",
              "3           1     4          0        42.31       2.572    5      2  2010   \n",
              "4           1     5          0        42.31       2.572    5      2  2010   \n",
              "...       ...   ...        ...          ...         ...  ...    ...   ...   \n",
              "551474     45    94          0        76.06       3.804   26      7  2013   \n",
              "551475     45    95          0        76.06       3.804   26      7  2013   \n",
              "551476     45    96          0        76.06       3.804   26      7  2013   \n",
              "551477     45    97          0        76.06       3.804   26      7  2013   \n",
              "551478     45    98          0        76.06       3.804   26      7  2013   \n",
              "\n",
              "        Type    Size  MarkDown1  MarkDown2  MarkDown3   MarkDown4  MarkDown5  \\\n",
              "0          1  151315  7422.4664   6443.322   145.5875  16721.9869  4489.6821   \n",
              "1          1  151315  7422.4664   6443.322   145.5875  16721.9869  4489.6821   \n",
              "2          1  151315  7422.4664   6443.322   145.5875  16721.9869  4489.6821   \n",
              "3          1  151315  7422.4664   6443.322   145.5875  16721.9869  4489.6821   \n",
              "4          1  151315  7422.4664   6443.322   145.5875  16721.9869  4489.6821   \n",
              "...      ...     ...        ...        ...        ...         ...        ...   \n",
              "551474     2  118221   212.0200    851.730     2.0600     10.8800  1864.5700   \n",
              "551475     2  118221   212.0200    851.730     2.0600     10.8800  1864.5700   \n",
              "551476     2  118221   212.0200    851.730     2.0600     10.8800  1864.5700   \n",
              "551477     2  118221   212.0200    851.730     2.0600     10.8800  1864.5700   \n",
              "551478     2  118221   212.0200    851.730     2.0600     10.8800  1864.5700   \n",
              "\n",
              "               CPI  Unemployment  Weekly_Sales  \n",
              "0       211.096358       8.10600    24924.5000  \n",
              "1       211.096358       8.10600    50605.2700  \n",
              "2       211.096358       8.10600    13740.1200  \n",
              "3       211.096358       8.10600    39954.0400  \n",
              "4       211.096358       8.10600    32229.3800  \n",
              "...            ...           ...           ...  \n",
              "551474  193.267465       8.67499     4392.5763  \n",
              "551475  193.267465       8.67499    56064.7318  \n",
              "551476  193.267465       8.67499     1094.3121  \n",
              "551477  193.267465       8.67499     6337.4919  \n",
              "551478  193.267465       8.67499      749.7942  \n",
              "\n",
              "[551479 rows x 18 columns]"
            ],
            "text/html": [
              "\n",
              "  <div id=\"df-b5eb7c89-080b-43bc-bb15-3281ada2b302\" class=\"colab-df-container\">\n",
              "    <div>\n",
              "<style scoped>\n",
              "    .dataframe tbody tr th:only-of-type {\n",
              "        vertical-align: middle;\n",
              "    }\n",
              "\n",
              "    .dataframe tbody tr th {\n",
              "        vertical-align: top;\n",
              "    }\n",
              "\n",
              "    .dataframe thead th {\n",
              "        text-align: right;\n",
              "    }\n",
              "</style>\n",
              "<table border=\"1\" class=\"dataframe\">\n",
              "  <thead>\n",
              "    <tr style=\"text-align: right;\">\n",
              "      <th></th>\n",
              "      <th>Store</th>\n",
              "      <th>Dept</th>\n",
              "      <th>IsHoliday</th>\n",
              "      <th>Temperature</th>\n",
              "      <th>Fuel_Price</th>\n",
              "      <th>Day</th>\n",
              "      <th>Month</th>\n",
              "      <th>Year</th>\n",
              "      <th>Type</th>\n",
              "      <th>Size</th>\n",
              "      <th>MarkDown1</th>\n",
              "      <th>MarkDown2</th>\n",
              "      <th>MarkDown3</th>\n",
              "      <th>MarkDown4</th>\n",
              "      <th>MarkDown5</th>\n",
              "      <th>CPI</th>\n",
              "      <th>Unemployment</th>\n",
              "      <th>Weekly_Sales</th>\n",
              "    </tr>\n",
              "  </thead>\n",
              "  <tbody>\n",
              "    <tr>\n",
              "      <th>0</th>\n",
              "      <td>1</td>\n",
              "      <td>1</td>\n",
              "      <td>0</td>\n",
              "      <td>42.31</td>\n",
              "      <td>2.572</td>\n",
              "      <td>5</td>\n",
              "      <td>2</td>\n",
              "      <td>2010</td>\n",
              "      <td>1</td>\n",
              "      <td>151315</td>\n",
              "      <td>7422.4664</td>\n",
              "      <td>6443.322</td>\n",
              "      <td>145.5875</td>\n",
              "      <td>16721.9869</td>\n",
              "      <td>4489.6821</td>\n",
              "      <td>211.096358</td>\n",
              "      <td>8.10600</td>\n",
              "      <td>24924.5000</td>\n",
              "    </tr>\n",
              "    <tr>\n",
              "      <th>1</th>\n",
              "      <td>1</td>\n",
              "      <td>2</td>\n",
              "      <td>0</td>\n",
              "      <td>42.31</td>\n",
              "      <td>2.572</td>\n",
              "      <td>5</td>\n",
              "      <td>2</td>\n",
              "      <td>2010</td>\n",
              "      <td>1</td>\n",
              "      <td>151315</td>\n",
              "      <td>7422.4664</td>\n",
              "      <td>6443.322</td>\n",
              "      <td>145.5875</td>\n",
              "      <td>16721.9869</td>\n",
              "      <td>4489.6821</td>\n",
              "      <td>211.096358</td>\n",
              "      <td>8.10600</td>\n",
              "      <td>50605.2700</td>\n",
              "    </tr>\n",
              "    <tr>\n",
              "      <th>2</th>\n",
              "      <td>1</td>\n",
              "      <td>3</td>\n",
              "      <td>0</td>\n",
              "      <td>42.31</td>\n",
              "      <td>2.572</td>\n",
              "      <td>5</td>\n",
              "      <td>2</td>\n",
              "      <td>2010</td>\n",
              "      <td>1</td>\n",
              "      <td>151315</td>\n",
              "      <td>7422.4664</td>\n",
              "      <td>6443.322</td>\n",
              "      <td>145.5875</td>\n",
              "      <td>16721.9869</td>\n",
              "      <td>4489.6821</td>\n",
              "      <td>211.096358</td>\n",
              "      <td>8.10600</td>\n",
              "      <td>13740.1200</td>\n",
              "    </tr>\n",
              "    <tr>\n",
              "      <th>3</th>\n",
              "      <td>1</td>\n",
              "      <td>4</td>\n",
              "      <td>0</td>\n",
              "      <td>42.31</td>\n",
              "      <td>2.572</td>\n",
              "      <td>5</td>\n",
              "      <td>2</td>\n",
              "      <td>2010</td>\n",
              "      <td>1</td>\n",
              "      <td>151315</td>\n",
              "      <td>7422.4664</td>\n",
              "      <td>6443.322</td>\n",
              "      <td>145.5875</td>\n",
              "      <td>16721.9869</td>\n",
              "      <td>4489.6821</td>\n",
              "      <td>211.096358</td>\n",
              "      <td>8.10600</td>\n",
              "      <td>39954.0400</td>\n",
              "    </tr>\n",
              "    <tr>\n",
              "      <th>4</th>\n",
              "      <td>1</td>\n",
              "      <td>5</td>\n",
              "      <td>0</td>\n",
              "      <td>42.31</td>\n",
              "      <td>2.572</td>\n",
              "      <td>5</td>\n",
              "      <td>2</td>\n",
              "      <td>2010</td>\n",
              "      <td>1</td>\n",
              "      <td>151315</td>\n",
              "      <td>7422.4664</td>\n",
              "      <td>6443.322</td>\n",
              "      <td>145.5875</td>\n",
              "      <td>16721.9869</td>\n",
              "      <td>4489.6821</td>\n",
              "      <td>211.096358</td>\n",
              "      <td>8.10600</td>\n",
              "      <td>32229.3800</td>\n",
              "    </tr>\n",
              "    <tr>\n",
              "      <th>...</th>\n",
              "      <td>...</td>\n",
              "      <td>...</td>\n",
              "      <td>...</td>\n",
              "      <td>...</td>\n",
              "      <td>...</td>\n",
              "      <td>...</td>\n",
              "      <td>...</td>\n",
              "      <td>...</td>\n",
              "      <td>...</td>\n",
              "      <td>...</td>\n",
              "      <td>...</td>\n",
              "      <td>...</td>\n",
              "      <td>...</td>\n",
              "      <td>...</td>\n",
              "      <td>...</td>\n",
              "      <td>...</td>\n",
              "      <td>...</td>\n",
              "      <td>...</td>\n",
              "    </tr>\n",
              "    <tr>\n",
              "      <th>551474</th>\n",
              "      <td>45</td>\n",
              "      <td>94</td>\n",
              "      <td>0</td>\n",
              "      <td>76.06</td>\n",
              "      <td>3.804</td>\n",
              "      <td>26</td>\n",
              "      <td>7</td>\n",
              "      <td>2013</td>\n",
              "      <td>2</td>\n",
              "      <td>118221</td>\n",
              "      <td>212.0200</td>\n",
              "      <td>851.730</td>\n",
              "      <td>2.0600</td>\n",
              "      <td>10.8800</td>\n",
              "      <td>1864.5700</td>\n",
              "      <td>193.267465</td>\n",
              "      <td>8.67499</td>\n",
              "      <td>4392.5763</td>\n",
              "    </tr>\n",
              "    <tr>\n",
              "      <th>551475</th>\n",
              "      <td>45</td>\n",
              "      <td>95</td>\n",
              "      <td>0</td>\n",
              "      <td>76.06</td>\n",
              "      <td>3.804</td>\n",
              "      <td>26</td>\n",
              "      <td>7</td>\n",
              "      <td>2013</td>\n",
              "      <td>2</td>\n",
              "      <td>118221</td>\n",
              "      <td>212.0200</td>\n",
              "      <td>851.730</td>\n",
              "      <td>2.0600</td>\n",
              "      <td>10.8800</td>\n",
              "      <td>1864.5700</td>\n",
              "      <td>193.267465</td>\n",
              "      <td>8.67499</td>\n",
              "      <td>56064.7318</td>\n",
              "    </tr>\n",
              "    <tr>\n",
              "      <th>551476</th>\n",
              "      <td>45</td>\n",
              "      <td>96</td>\n",
              "      <td>0</td>\n",
              "      <td>76.06</td>\n",
              "      <td>3.804</td>\n",
              "      <td>26</td>\n",
              "      <td>7</td>\n",
              "      <td>2013</td>\n",
              "      <td>2</td>\n",
              "      <td>118221</td>\n",
              "      <td>212.0200</td>\n",
              "      <td>851.730</td>\n",
              "      <td>2.0600</td>\n",
              "      <td>10.8800</td>\n",
              "      <td>1864.5700</td>\n",
              "      <td>193.267465</td>\n",
              "      <td>8.67499</td>\n",
              "      <td>1094.3121</td>\n",
              "    </tr>\n",
              "    <tr>\n",
              "      <th>551477</th>\n",
              "      <td>45</td>\n",
              "      <td>97</td>\n",
              "      <td>0</td>\n",
              "      <td>76.06</td>\n",
              "      <td>3.804</td>\n",
              "      <td>26</td>\n",
              "      <td>7</td>\n",
              "      <td>2013</td>\n",
              "      <td>2</td>\n",
              "      <td>118221</td>\n",
              "      <td>212.0200</td>\n",
              "      <td>851.730</td>\n",
              "      <td>2.0600</td>\n",
              "      <td>10.8800</td>\n",
              "      <td>1864.5700</td>\n",
              "      <td>193.267465</td>\n",
              "      <td>8.67499</td>\n",
              "      <td>6337.4919</td>\n",
              "    </tr>\n",
              "    <tr>\n",
              "      <th>551478</th>\n",
              "      <td>45</td>\n",
              "      <td>98</td>\n",
              "      <td>0</td>\n",
              "      <td>76.06</td>\n",
              "      <td>3.804</td>\n",
              "      <td>26</td>\n",
              "      <td>7</td>\n",
              "      <td>2013</td>\n",
              "      <td>2</td>\n",
              "      <td>118221</td>\n",
              "      <td>212.0200</td>\n",
              "      <td>851.730</td>\n",
              "      <td>2.0600</td>\n",
              "      <td>10.8800</td>\n",
              "      <td>1864.5700</td>\n",
              "      <td>193.267465</td>\n",
              "      <td>8.67499</td>\n",
              "      <td>749.7942</td>\n",
              "    </tr>\n",
              "  </tbody>\n",
              "</table>\n",
              "<p>551479 rows × 18 columns</p>\n",
              "</div>\n",
              "    <div class=\"colab-df-buttons\">\n",
              "\n",
              "  <div class=\"colab-df-container\">\n",
              "    <button class=\"colab-df-convert\" onclick=\"convertToInteractive('df-b5eb7c89-080b-43bc-bb15-3281ada2b302')\"\n",
              "            title=\"Convert this dataframe to an interactive table.\"\n",
              "            style=\"display:none;\">\n",
              "\n",
              "  <svg xmlns=\"http://www.w3.org/2000/svg\" height=\"24px\" viewBox=\"0 -960 960 960\">\n",
              "    <path d=\"M120-120v-720h720v720H120Zm60-500h600v-160H180v160Zm220 220h160v-160H400v160Zm0 220h160v-160H400v160ZM180-400h160v-160H180v160Zm440 0h160v-160H620v160ZM180-180h160v-160H180v160Zm440 0h160v-160H620v160Z\"/>\n",
              "  </svg>\n",
              "    </button>\n",
              "\n",
              "  <style>\n",
              "    .colab-df-container {\n",
              "      display:flex;\n",
              "      gap: 12px;\n",
              "    }\n",
              "\n",
              "    .colab-df-convert {\n",
              "      background-color: #E8F0FE;\n",
              "      border: none;\n",
              "      border-radius: 50%;\n",
              "      cursor: pointer;\n",
              "      display: none;\n",
              "      fill: #1967D2;\n",
              "      height: 32px;\n",
              "      padding: 0 0 0 0;\n",
              "      width: 32px;\n",
              "    }\n",
              "\n",
              "    .colab-df-convert:hover {\n",
              "      background-color: #E2EBFA;\n",
              "      box-shadow: 0px 1px 2px rgba(60, 64, 67, 0.3), 0px 1px 3px 1px rgba(60, 64, 67, 0.15);\n",
              "      fill: #174EA6;\n",
              "    }\n",
              "\n",
              "    .colab-df-buttons div {\n",
              "      margin-bottom: 4px;\n",
              "    }\n",
              "\n",
              "    [theme=dark] .colab-df-convert {\n",
              "      background-color: #3B4455;\n",
              "      fill: #D2E3FC;\n",
              "    }\n",
              "\n",
              "    [theme=dark] .colab-df-convert:hover {\n",
              "      background-color: #434B5C;\n",
              "      box-shadow: 0px 1px 3px 1px rgba(0, 0, 0, 0.15);\n",
              "      filter: drop-shadow(0px 1px 2px rgba(0, 0, 0, 0.3));\n",
              "      fill: #FFFFFF;\n",
              "    }\n",
              "  </style>\n",
              "\n",
              "    <script>\n",
              "      const buttonEl =\n",
              "        document.querySelector('#df-b5eb7c89-080b-43bc-bb15-3281ada2b302 button.colab-df-convert');\n",
              "      buttonEl.style.display =\n",
              "        google.colab.kernel.accessAllowed ? 'block' : 'none';\n",
              "\n",
              "      async function convertToInteractive(key) {\n",
              "        const element = document.querySelector('#df-b5eb7c89-080b-43bc-bb15-3281ada2b302');\n",
              "        const dataTable =\n",
              "          await google.colab.kernel.invokeFunction('convertToInteractive',\n",
              "                                                    [key], {});\n",
              "        if (!dataTable) return;\n",
              "\n",
              "        const docLinkHtml = 'Like what you see? Visit the ' +\n",
              "          '<a target=\"_blank\" href=https://colab.research.google.com/notebooks/data_table.ipynb>data table notebook</a>'\n",
              "          + ' to learn more about interactive tables.';\n",
              "        element.innerHTML = '';\n",
              "        dataTable['output_type'] = 'display_data';\n",
              "        await google.colab.output.renderOutput(dataTable, element);\n",
              "        const docLink = document.createElement('div');\n",
              "        docLink.innerHTML = docLinkHtml;\n",
              "        element.appendChild(docLink);\n",
              "      }\n",
              "    </script>\n",
              "  </div>\n",
              "\n",
              "\n",
              "<div id=\"df-48b43002-f95e-4800-8a47-e989da769bdc\">\n",
              "  <button class=\"colab-df-quickchart\" onclick=\"quickchart('df-48b43002-f95e-4800-8a47-e989da769bdc')\"\n",
              "            title=\"Suggest charts\"\n",
              "            style=\"display:none;\">\n",
              "\n",
              "<svg xmlns=\"http://www.w3.org/2000/svg\" height=\"24px\"viewBox=\"0 0 24 24\"\n",
              "     width=\"24px\">\n",
              "    <g>\n",
              "        <path d=\"M19 3H5c-1.1 0-2 .9-2 2v14c0 1.1.9 2 2 2h14c1.1 0 2-.9 2-2V5c0-1.1-.9-2-2-2zM9 17H7v-7h2v7zm4 0h-2V7h2v10zm4 0h-2v-4h2v4z\"/>\n",
              "    </g>\n",
              "</svg>\n",
              "  </button>\n",
              "\n",
              "<style>\n",
              "  .colab-df-quickchart {\n",
              "      --bg-color: #E8F0FE;\n",
              "      --fill-color: #1967D2;\n",
              "      --hover-bg-color: #E2EBFA;\n",
              "      --hover-fill-color: #174EA6;\n",
              "      --disabled-fill-color: #AAA;\n",
              "      --disabled-bg-color: #DDD;\n",
              "  }\n",
              "\n",
              "  [theme=dark] .colab-df-quickchart {\n",
              "      --bg-color: #3B4455;\n",
              "      --fill-color: #D2E3FC;\n",
              "      --hover-bg-color: #434B5C;\n",
              "      --hover-fill-color: #FFFFFF;\n",
              "      --disabled-bg-color: #3B4455;\n",
              "      --disabled-fill-color: #666;\n",
              "  }\n",
              "\n",
              "  .colab-df-quickchart {\n",
              "    background-color: var(--bg-color);\n",
              "    border: none;\n",
              "    border-radius: 50%;\n",
              "    cursor: pointer;\n",
              "    display: none;\n",
              "    fill: var(--fill-color);\n",
              "    height: 32px;\n",
              "    padding: 0;\n",
              "    width: 32px;\n",
              "  }\n",
              "\n",
              "  .colab-df-quickchart:hover {\n",
              "    background-color: var(--hover-bg-color);\n",
              "    box-shadow: 0 1px 2px rgba(60, 64, 67, 0.3), 0 1px 3px 1px rgba(60, 64, 67, 0.15);\n",
              "    fill: var(--button-hover-fill-color);\n",
              "  }\n",
              "\n",
              "  .colab-df-quickchart-complete:disabled,\n",
              "  .colab-df-quickchart-complete:disabled:hover {\n",
              "    background-color: var(--disabled-bg-color);\n",
              "    fill: var(--disabled-fill-color);\n",
              "    box-shadow: none;\n",
              "  }\n",
              "\n",
              "  .colab-df-spinner {\n",
              "    border: 2px solid var(--fill-color);\n",
              "    border-color: transparent;\n",
              "    border-bottom-color: var(--fill-color);\n",
              "    animation:\n",
              "      spin 1s steps(1) infinite;\n",
              "  }\n",
              "\n",
              "  @keyframes spin {\n",
              "    0% {\n",
              "      border-color: transparent;\n",
              "      border-bottom-color: var(--fill-color);\n",
              "      border-left-color: var(--fill-color);\n",
              "    }\n",
              "    20% {\n",
              "      border-color: transparent;\n",
              "      border-left-color: var(--fill-color);\n",
              "      border-top-color: var(--fill-color);\n",
              "    }\n",
              "    30% {\n",
              "      border-color: transparent;\n",
              "      border-left-color: var(--fill-color);\n",
              "      border-top-color: var(--fill-color);\n",
              "      border-right-color: var(--fill-color);\n",
              "    }\n",
              "    40% {\n",
              "      border-color: transparent;\n",
              "      border-right-color: var(--fill-color);\n",
              "      border-top-color: var(--fill-color);\n",
              "    }\n",
              "    60% {\n",
              "      border-color: transparent;\n",
              "      border-right-color: var(--fill-color);\n",
              "    }\n",
              "    80% {\n",
              "      border-color: transparent;\n",
              "      border-right-color: var(--fill-color);\n",
              "      border-bottom-color: var(--fill-color);\n",
              "    }\n",
              "    90% {\n",
              "      border-color: transparent;\n",
              "      border-bottom-color: var(--fill-color);\n",
              "    }\n",
              "  }\n",
              "</style>\n",
              "\n",
              "  <script>\n",
              "    async function quickchart(key) {\n",
              "      const quickchartButtonEl =\n",
              "        document.querySelector('#' + key + ' button');\n",
              "      quickchartButtonEl.disabled = true;  // To prevent multiple clicks.\n",
              "      quickchartButtonEl.classList.add('colab-df-spinner');\n",
              "      try {\n",
              "        const charts = await google.colab.kernel.invokeFunction(\n",
              "            'suggestCharts', [key], {});\n",
              "      } catch (error) {\n",
              "        console.error('Error during call to suggestCharts:', error);\n",
              "      }\n",
              "      quickchartButtonEl.classList.remove('colab-df-spinner');\n",
              "      quickchartButtonEl.classList.add('colab-df-quickchart-complete');\n",
              "    }\n",
              "    (() => {\n",
              "      let quickchartButtonEl =\n",
              "        document.querySelector('#df-48b43002-f95e-4800-8a47-e989da769bdc button');\n",
              "      quickchartButtonEl.style.display =\n",
              "        google.colab.kernel.accessAllowed ? 'block' : 'none';\n",
              "    })();\n",
              "  </script>\n",
              "</div>\n",
              "    </div>\n",
              "  </div>\n"
            ]
          },
          "metadata": {},
          "execution_count": 3
        }
      ]
    },
    {
      "cell_type": "markdown",
      "source": [
        "## **Predictor vs Response Variable**"
      ],
      "metadata": {
        "id": "klpsM5r04Qlb"
      }
    },
    {
      "cell_type": "code",
      "source": [
        "x = df.drop('Weekly_Sales',axis=1)\n",
        "\n",
        "y = df['Weekly_Sales']"
      ],
      "metadata": {
        "id": "hg1OURtu4VcS"
      },
      "execution_count": 4,
      "outputs": []
    },
    {
      "cell_type": "markdown",
      "source": [
        "## **Model Selection**"
      ],
      "metadata": {
        "id": "-k2GOs11SO4Q"
      }
    },
    {
      "cell_type": "code",
      "source": [
        "def model_regression(xtrain,xtest,ytrain,ytest,algorithm):\n",
        "\n",
        "\n",
        "  for i in algorithm:\n",
        "\n",
        "    model = i().fit(xtrain,ytrain)\n",
        "\n",
        "\n",
        "    # predict for train and test accuracy\n",
        "\n",
        "    y_train_pred = model.predict(xtrain)\n",
        "\n",
        "\n",
        "    y_test_pred  = model.predict(xtest)\n",
        "\n",
        "    # R2 score\n",
        "\n",
        "    r2_training = r2_score(ytrain,y_train_pred)\n",
        "\n",
        "    r2_testing = r2_score(ytest,y_test_pred)\n",
        "\n",
        "    # MAE Score\n",
        "    mae_testing = mean_absolute_error(ytest,y_test_pred)\n",
        "\n",
        "    # MSE Score\n",
        "    mse_testing = mean_squared_error(ytest,y_test_pred)\n",
        "\n",
        "    # RMSE SCore\n",
        "    rmse_testing = np.sqrt(mean_squared_error(ytest,y_test_pred))\n",
        "\n",
        "    data = {'Algorithm':i.__name__, 'Training R2 Score':r2_training,'Testing R2 Score':r2_testing,'MAE':mae_testing,'MSE':mse_testing,'RMSE':rmse_testing}\n",
        "\n",
        "\n",
        "    print(data)"
      ],
      "metadata": {
        "id": "rQDDEKa6R6tt"
      },
      "execution_count": null,
      "outputs": []
    },
    {
      "cell_type": "markdown",
      "source": [
        "**`Split Data`**"
      ],
      "metadata": {
        "id": "gV6zMHLoTcNG"
      }
    },
    {
      "cell_type": "code",
      "source": [
        "xtrain,xtest,ytrain,ytest = train_test_split(x,y,test_size=0.2)"
      ],
      "metadata": {
        "id": "O_J54Y7iUEfy"
      },
      "execution_count": null,
      "outputs": []
    },
    {
      "cell_type": "code",
      "source": [
        "model_regression(xtrain,xtest,ytrain,ytest,[RandomForestRegressor,DecisionTreeRegressor,ExtraTreesRegressor,AdaBoostRegressor,XGBRegressor,GradientBoostingRegressor])"
      ],
      "metadata": {
        "colab": {
          "base_uri": "https://localhost:8080/"
        },
        "id": "77KJYsQ6TfMb",
        "outputId": "7d59145b-307e-4924-f470-b6c8312612ab"
      },
      "execution_count": null,
      "outputs": [
        {
          "output_type": "stream",
          "name": "stdout",
          "text": [
            "{'Algorithm': 'RandomForestRegressor', 'Training R2 Score': 0.9973151500811724, 'Testing R2 Score': 0.9769857610476683, 'MAE': 1193.6342204833313, 'MSE': 11748340.24912464, 'RMSE': 3427.5851921031285}\n",
            "{'Algorithm': 'DecisionTreeRegressor', 'Training R2 Score': 1.0, 'Testing R2 Score': 0.9574968155590637, 'MAE': 1683.0666671756007, 'MSE': 21697083.85828809, 'RMSE': 4658.012865835397}\n",
            "{'Algorithm': 'ExtraTreesRegressor', 'Training R2 Score': 0.9999999999999999, 'Testing R2 Score': 0.9785393391484648, 'MAE': 1175.7644674524236, 'MSE': 10955267.570529884, 'RMSE': 3309.874252978485}\n",
            "{'Algorithm': 'AdaBoostRegressor', 'Training R2 Score': -0.3158334500689537, 'Testing R2 Score': -0.326493914130104, 'MAE': 21883.443092959867, 'MSE': 677150431.6902347, 'RMSE': 26022.114281707294}\n",
            "{'Algorithm': 'XGBRegressor', 'Training R2 Score': 0.9522167106503114, 'Testing R2 Score': 0.9441222964487436, 'MAE': 2947.4891156363174, 'MSE': 28524526.707991447, 'RMSE': 5340.8357686781055}\n",
            "{'Algorithm': 'GradientBoostingRegressor', 'Training R2 Score': 0.7457809897452086, 'Testing R2 Score': 0.7393798094800673, 'MAE': 6964.474053488104, 'MSE': 133041752.12405415, 'RMSE': 11534.372636778047}\n"
          ]
        }
      ]
    },
    {
      "cell_type": "markdown",
      "source": [
        "## **Model Building (RandomForestRegressor)**"
      ],
      "metadata": {
        "id": "PPILS4esomGt"
      }
    },
    {
      "cell_type": "code",
      "source": [
        "!pip install --upgrade scikit-learn"
      ],
      "metadata": {
        "colab": {
          "base_uri": "https://localhost:8080/"
        },
        "id": "RYAqtbaKAxgY",
        "outputId": "c69cccc3-260b-4649-e9dc-2d59f00992c0"
      },
      "execution_count": null,
      "outputs": [
        {
          "output_type": "stream",
          "name": "stdout",
          "text": [
            "Requirement already satisfied: scikit-learn in /usr/local/lib/python3.10/dist-packages (1.3.2)\n",
            "Requirement already satisfied: numpy<2.0,>=1.17.3 in /usr/local/lib/python3.10/dist-packages (from scikit-learn) (1.23.5)\n",
            "Requirement already satisfied: scipy>=1.5.0 in /usr/local/lib/python3.10/dist-packages (from scikit-learn) (1.11.3)\n",
            "Requirement already satisfied: joblib>=1.1.1 in /usr/local/lib/python3.10/dist-packages (from scikit-learn) (1.3.2)\n",
            "Requirement already satisfied: threadpoolctl>=2.0.0 in /usr/local/lib/python3.10/dist-packages (from scikit-learn) (3.2.0)\n"
          ]
        }
      ]
    },
    {
      "cell_type": "code",
      "source": [
        "xtrain,xtest,ytrain,ytest = train_test_split(x,y,test_size=0.2)"
      ],
      "metadata": {
        "id": "kYMmC06_o4KD"
      },
      "execution_count": null,
      "outputs": []
    },
    {
      "cell_type": "code",
      "source": [
        "model = RandomForestRegressor().fit(xtrain,ytrain)\n",
        "\n",
        "model"
      ],
      "metadata": {
        "colab": {
          "base_uri": "https://localhost:8080/",
          "height": 74
        },
        "id": "oYNV2Ox4o8p_",
        "outputId": "918423e2-5512-47cd-8079-5ce2129e80a0"
      },
      "execution_count": null,
      "outputs": [
        {
          "output_type": "execute_result",
          "data": {
            "text/plain": [
              "RandomForestRegressor()"
            ],
            "text/html": [
              "<style>#sk-container-id-1 {color: black;}#sk-container-id-1 pre{padding: 0;}#sk-container-id-1 div.sk-toggleable {background-color: white;}#sk-container-id-1 label.sk-toggleable__label {cursor: pointer;display: block;width: 100%;margin-bottom: 0;padding: 0.3em;box-sizing: border-box;text-align: center;}#sk-container-id-1 label.sk-toggleable__label-arrow:before {content: \"▸\";float: left;margin-right: 0.25em;color: #696969;}#sk-container-id-1 label.sk-toggleable__label-arrow:hover:before {color: black;}#sk-container-id-1 div.sk-estimator:hover label.sk-toggleable__label-arrow:before {color: black;}#sk-container-id-1 div.sk-toggleable__content {max-height: 0;max-width: 0;overflow: hidden;text-align: left;background-color: #f0f8ff;}#sk-container-id-1 div.sk-toggleable__content pre {margin: 0.2em;color: black;border-radius: 0.25em;background-color: #f0f8ff;}#sk-container-id-1 input.sk-toggleable__control:checked~div.sk-toggleable__content {max-height: 200px;max-width: 100%;overflow: auto;}#sk-container-id-1 input.sk-toggleable__control:checked~label.sk-toggleable__label-arrow:before {content: \"▾\";}#sk-container-id-1 div.sk-estimator input.sk-toggleable__control:checked~label.sk-toggleable__label {background-color: #d4ebff;}#sk-container-id-1 div.sk-label input.sk-toggleable__control:checked~label.sk-toggleable__label {background-color: #d4ebff;}#sk-container-id-1 input.sk-hidden--visually {border: 0;clip: rect(1px 1px 1px 1px);clip: rect(1px, 1px, 1px, 1px);height: 1px;margin: -1px;overflow: hidden;padding: 0;position: absolute;width: 1px;}#sk-container-id-1 div.sk-estimator {font-family: monospace;background-color: #f0f8ff;border: 1px dotted black;border-radius: 0.25em;box-sizing: border-box;margin-bottom: 0.5em;}#sk-container-id-1 div.sk-estimator:hover {background-color: #d4ebff;}#sk-container-id-1 div.sk-parallel-item::after {content: \"\";width: 100%;border-bottom: 1px solid gray;flex-grow: 1;}#sk-container-id-1 div.sk-label:hover label.sk-toggleable__label {background-color: #d4ebff;}#sk-container-id-1 div.sk-serial::before {content: \"\";position: absolute;border-left: 1px solid gray;box-sizing: border-box;top: 0;bottom: 0;left: 50%;z-index: 0;}#sk-container-id-1 div.sk-serial {display: flex;flex-direction: column;align-items: center;background-color: white;padding-right: 0.2em;padding-left: 0.2em;position: relative;}#sk-container-id-1 div.sk-item {position: relative;z-index: 1;}#sk-container-id-1 div.sk-parallel {display: flex;align-items: stretch;justify-content: center;background-color: white;position: relative;}#sk-container-id-1 div.sk-item::before, #sk-container-id-1 div.sk-parallel-item::before {content: \"\";position: absolute;border-left: 1px solid gray;box-sizing: border-box;top: 0;bottom: 0;left: 50%;z-index: -1;}#sk-container-id-1 div.sk-parallel-item {display: flex;flex-direction: column;z-index: 1;position: relative;background-color: white;}#sk-container-id-1 div.sk-parallel-item:first-child::after {align-self: flex-end;width: 50%;}#sk-container-id-1 div.sk-parallel-item:last-child::after {align-self: flex-start;width: 50%;}#sk-container-id-1 div.sk-parallel-item:only-child::after {width: 0;}#sk-container-id-1 div.sk-dashed-wrapped {border: 1px dashed gray;margin: 0 0.4em 0.5em 0.4em;box-sizing: border-box;padding-bottom: 0.4em;background-color: white;}#sk-container-id-1 div.sk-label label {font-family: monospace;font-weight: bold;display: inline-block;line-height: 1.2em;}#sk-container-id-1 div.sk-label-container {text-align: center;}#sk-container-id-1 div.sk-container {/* jupyter's `normalize.less` sets `[hidden] { display: none; }` but bootstrap.min.css set `[hidden] { display: none !important; }` so we also need the `!important` here to be able to override the default hidden behavior on the sphinx rendered scikit-learn.org. See: https://github.com/scikit-learn/scikit-learn/issues/21755 */display: inline-block !important;position: relative;}#sk-container-id-1 div.sk-text-repr-fallback {display: none;}</style><div id=\"sk-container-id-1\" class=\"sk-top-container\"><div class=\"sk-text-repr-fallback\"><pre>RandomForestRegressor()</pre><b>In a Jupyter environment, please rerun this cell to show the HTML representation or trust the notebook. <br />On GitHub, the HTML representation is unable to render, please try loading this page with nbviewer.org.</b></div><div class=\"sk-container\" hidden><div class=\"sk-item\"><div class=\"sk-estimator sk-toggleable\"><input class=\"sk-toggleable__control sk-hidden--visually\" id=\"sk-estimator-id-1\" type=\"checkbox\" checked><label for=\"sk-estimator-id-1\" class=\"sk-toggleable__label sk-toggleable__label-arrow\">RandomForestRegressor</label><div class=\"sk-toggleable__content\"><pre>RandomForestRegressor()</pre></div></div></div></div></div>"
            ]
          },
          "metadata": {},
          "execution_count": 8
        }
      ]
    },
    {
      "cell_type": "markdown",
      "source": [
        "**Accuracy Check**"
      ],
      "metadata": {
        "id": "F0rwF59_pIPX"
      }
    },
    {
      "cell_type": "code",
      "source": [
        "y_test_pred  = model.predict(xtest)\n",
        "\n",
        "r2_testing = r2_score(ytest,y_test_pred)\n",
        "\n",
        "r2_testing*100"
      ],
      "metadata": {
        "colab": {
          "base_uri": "https://localhost:8080/"
        },
        "id": "S_o5axT2o8mg",
        "outputId": "71ecc244-8dfe-41fe-a73d-1ecbd0c2c3fb"
      },
      "execution_count": null,
      "outputs": [
        {
          "output_type": "execute_result",
          "data": {
            "text/plain": [
              "97.58350875219631"
            ]
          },
          "metadata": {},
          "execution_count": 11
        }
      ]
    },
    {
      "cell_type": "markdown",
      "source": [
        "### **Prediction**"
      ],
      "metadata": {
        "id": "SaZHAl1opSQq"
      }
    },
    {
      "cell_type": "code",
      "source": [
        "data = x.loc[[10000,8000,55000]]\n",
        "data"
      ],
      "metadata": {
        "colab": {
          "base_uri": "https://localhost:8080/",
          "height": 163
        },
        "id": "IqXDvaKzo8kh",
        "outputId": "2a424dda-a04a-4ecc-d99e-c8a3cfda8fc2"
      },
      "execution_count": null,
      "outputs": [
        {
          "output_type": "execute_result",
          "data": {
            "text/plain": [
              "       Store  Dept  IsHoliday  Temperature  Fuel_Price  Day  Month  Year  \\\n",
              "10000     16    90          0        18.12       2.586   26      2  2010   \n",
              "8000      30    97          0        39.75       2.514   19      2  2010   \n",
              "55000     32     2          0        70.86       2.684   11      6  2010   \n",
              "\n",
              "       Type    Size   MarkDown1  MarkDown2  MarkDown3  MarkDown4  MarkDown5  \\\n",
              "10000     2   57197   5480.7127  1822.1091    78.6696  1486.1364  2779.0627   \n",
              "8000      3   42988    560.1677   888.5600    41.9200   141.3344  2805.0176   \n",
              "55000     1  203007  14109.1464   221.9419    43.7785  3545.2663  5765.7583   \n",
              "\n",
              "              CPI  Unemployment  \n",
              "10000  189.601802         7.039  \n",
              "8000   210.945160         8.324  \n",
              "55000  189.400073         8.963  "
            ],
            "text/html": [
              "\n",
              "  <div id=\"df-33bb8812-5bb5-49aa-8a6a-bf4d6b4db924\" class=\"colab-df-container\">\n",
              "    <div>\n",
              "<style scoped>\n",
              "    .dataframe tbody tr th:only-of-type {\n",
              "        vertical-align: middle;\n",
              "    }\n",
              "\n",
              "    .dataframe tbody tr th {\n",
              "        vertical-align: top;\n",
              "    }\n",
              "\n",
              "    .dataframe thead th {\n",
              "        text-align: right;\n",
              "    }\n",
              "</style>\n",
              "<table border=\"1\" class=\"dataframe\">\n",
              "  <thead>\n",
              "    <tr style=\"text-align: right;\">\n",
              "      <th></th>\n",
              "      <th>Store</th>\n",
              "      <th>Dept</th>\n",
              "      <th>IsHoliday</th>\n",
              "      <th>Temperature</th>\n",
              "      <th>Fuel_Price</th>\n",
              "      <th>Day</th>\n",
              "      <th>Month</th>\n",
              "      <th>Year</th>\n",
              "      <th>Type</th>\n",
              "      <th>Size</th>\n",
              "      <th>MarkDown1</th>\n",
              "      <th>MarkDown2</th>\n",
              "      <th>MarkDown3</th>\n",
              "      <th>MarkDown4</th>\n",
              "      <th>MarkDown5</th>\n",
              "      <th>CPI</th>\n",
              "      <th>Unemployment</th>\n",
              "    </tr>\n",
              "  </thead>\n",
              "  <tbody>\n",
              "    <tr>\n",
              "      <th>10000</th>\n",
              "      <td>16</td>\n",
              "      <td>90</td>\n",
              "      <td>0</td>\n",
              "      <td>18.12</td>\n",
              "      <td>2.586</td>\n",
              "      <td>26</td>\n",
              "      <td>2</td>\n",
              "      <td>2010</td>\n",
              "      <td>2</td>\n",
              "      <td>57197</td>\n",
              "      <td>5480.7127</td>\n",
              "      <td>1822.1091</td>\n",
              "      <td>78.6696</td>\n",
              "      <td>1486.1364</td>\n",
              "      <td>2779.0627</td>\n",
              "      <td>189.601802</td>\n",
              "      <td>7.039</td>\n",
              "    </tr>\n",
              "    <tr>\n",
              "      <th>8000</th>\n",
              "      <td>30</td>\n",
              "      <td>97</td>\n",
              "      <td>0</td>\n",
              "      <td>39.75</td>\n",
              "      <td>2.514</td>\n",
              "      <td>19</td>\n",
              "      <td>2</td>\n",
              "      <td>2010</td>\n",
              "      <td>3</td>\n",
              "      <td>42988</td>\n",
              "      <td>560.1677</td>\n",
              "      <td>888.5600</td>\n",
              "      <td>41.9200</td>\n",
              "      <td>141.3344</td>\n",
              "      <td>2805.0176</td>\n",
              "      <td>210.945160</td>\n",
              "      <td>8.324</td>\n",
              "    </tr>\n",
              "    <tr>\n",
              "      <th>55000</th>\n",
              "      <td>32</td>\n",
              "      <td>2</td>\n",
              "      <td>0</td>\n",
              "      <td>70.86</td>\n",
              "      <td>2.684</td>\n",
              "      <td>11</td>\n",
              "      <td>6</td>\n",
              "      <td>2010</td>\n",
              "      <td>1</td>\n",
              "      <td>203007</td>\n",
              "      <td>14109.1464</td>\n",
              "      <td>221.9419</td>\n",
              "      <td>43.7785</td>\n",
              "      <td>3545.2663</td>\n",
              "      <td>5765.7583</td>\n",
              "      <td>189.400073</td>\n",
              "      <td>8.963</td>\n",
              "    </tr>\n",
              "  </tbody>\n",
              "</table>\n",
              "</div>\n",
              "    <div class=\"colab-df-buttons\">\n",
              "\n",
              "  <div class=\"colab-df-container\">\n",
              "    <button class=\"colab-df-convert\" onclick=\"convertToInteractive('df-33bb8812-5bb5-49aa-8a6a-bf4d6b4db924')\"\n",
              "            title=\"Convert this dataframe to an interactive table.\"\n",
              "            style=\"display:none;\">\n",
              "\n",
              "  <svg xmlns=\"http://www.w3.org/2000/svg\" height=\"24px\" viewBox=\"0 -960 960 960\">\n",
              "    <path d=\"M120-120v-720h720v720H120Zm60-500h600v-160H180v160Zm220 220h160v-160H400v160Zm0 220h160v-160H400v160ZM180-400h160v-160H180v160Zm440 0h160v-160H620v160ZM180-180h160v-160H180v160Zm440 0h160v-160H620v160Z\"/>\n",
              "  </svg>\n",
              "    </button>\n",
              "\n",
              "  <style>\n",
              "    .colab-df-container {\n",
              "      display:flex;\n",
              "      gap: 12px;\n",
              "    }\n",
              "\n",
              "    .colab-df-convert {\n",
              "      background-color: #E8F0FE;\n",
              "      border: none;\n",
              "      border-radius: 50%;\n",
              "      cursor: pointer;\n",
              "      display: none;\n",
              "      fill: #1967D2;\n",
              "      height: 32px;\n",
              "      padding: 0 0 0 0;\n",
              "      width: 32px;\n",
              "    }\n",
              "\n",
              "    .colab-df-convert:hover {\n",
              "      background-color: #E2EBFA;\n",
              "      box-shadow: 0px 1px 2px rgba(60, 64, 67, 0.3), 0px 1px 3px 1px rgba(60, 64, 67, 0.15);\n",
              "      fill: #174EA6;\n",
              "    }\n",
              "\n",
              "    .colab-df-buttons div {\n",
              "      margin-bottom: 4px;\n",
              "    }\n",
              "\n",
              "    [theme=dark] .colab-df-convert {\n",
              "      background-color: #3B4455;\n",
              "      fill: #D2E3FC;\n",
              "    }\n",
              "\n",
              "    [theme=dark] .colab-df-convert:hover {\n",
              "      background-color: #434B5C;\n",
              "      box-shadow: 0px 1px 3px 1px rgba(0, 0, 0, 0.15);\n",
              "      filter: drop-shadow(0px 1px 2px rgba(0, 0, 0, 0.3));\n",
              "      fill: #FFFFFF;\n",
              "    }\n",
              "  </style>\n",
              "\n",
              "    <script>\n",
              "      const buttonEl =\n",
              "        document.querySelector('#df-33bb8812-5bb5-49aa-8a6a-bf4d6b4db924 button.colab-df-convert');\n",
              "      buttonEl.style.display =\n",
              "        google.colab.kernel.accessAllowed ? 'block' : 'none';\n",
              "\n",
              "      async function convertToInteractive(key) {\n",
              "        const element = document.querySelector('#df-33bb8812-5bb5-49aa-8a6a-bf4d6b4db924');\n",
              "        const dataTable =\n",
              "          await google.colab.kernel.invokeFunction('convertToInteractive',\n",
              "                                                    [key], {});\n",
              "        if (!dataTable) return;\n",
              "\n",
              "        const docLinkHtml = 'Like what you see? Visit the ' +\n",
              "          '<a target=\"_blank\" href=https://colab.research.google.com/notebooks/data_table.ipynb>data table notebook</a>'\n",
              "          + ' to learn more about interactive tables.';\n",
              "        element.innerHTML = '';\n",
              "        dataTable['output_type'] = 'display_data';\n",
              "        await google.colab.output.renderOutput(dataTable, element);\n",
              "        const docLink = document.createElement('div');\n",
              "        docLink.innerHTML = docLinkHtml;\n",
              "        element.appendChild(docLink);\n",
              "      }\n",
              "    </script>\n",
              "  </div>\n",
              "\n",
              "\n",
              "<div id=\"df-b86c9ea0-ad40-4b0b-8513-467033f6f3c4\">\n",
              "  <button class=\"colab-df-quickchart\" onclick=\"quickchart('df-b86c9ea0-ad40-4b0b-8513-467033f6f3c4')\"\n",
              "            title=\"Suggest charts\"\n",
              "            style=\"display:none;\">\n",
              "\n",
              "<svg xmlns=\"http://www.w3.org/2000/svg\" height=\"24px\"viewBox=\"0 0 24 24\"\n",
              "     width=\"24px\">\n",
              "    <g>\n",
              "        <path d=\"M19 3H5c-1.1 0-2 .9-2 2v14c0 1.1.9 2 2 2h14c1.1 0 2-.9 2-2V5c0-1.1-.9-2-2-2zM9 17H7v-7h2v7zm4 0h-2V7h2v10zm4 0h-2v-4h2v4z\"/>\n",
              "    </g>\n",
              "</svg>\n",
              "  </button>\n",
              "\n",
              "<style>\n",
              "  .colab-df-quickchart {\n",
              "      --bg-color: #E8F0FE;\n",
              "      --fill-color: #1967D2;\n",
              "      --hover-bg-color: #E2EBFA;\n",
              "      --hover-fill-color: #174EA6;\n",
              "      --disabled-fill-color: #AAA;\n",
              "      --disabled-bg-color: #DDD;\n",
              "  }\n",
              "\n",
              "  [theme=dark] .colab-df-quickchart {\n",
              "      --bg-color: #3B4455;\n",
              "      --fill-color: #D2E3FC;\n",
              "      --hover-bg-color: #434B5C;\n",
              "      --hover-fill-color: #FFFFFF;\n",
              "      --disabled-bg-color: #3B4455;\n",
              "      --disabled-fill-color: #666;\n",
              "  }\n",
              "\n",
              "  .colab-df-quickchart {\n",
              "    background-color: var(--bg-color);\n",
              "    border: none;\n",
              "    border-radius: 50%;\n",
              "    cursor: pointer;\n",
              "    display: none;\n",
              "    fill: var(--fill-color);\n",
              "    height: 32px;\n",
              "    padding: 0;\n",
              "    width: 32px;\n",
              "  }\n",
              "\n",
              "  .colab-df-quickchart:hover {\n",
              "    background-color: var(--hover-bg-color);\n",
              "    box-shadow: 0 1px 2px rgba(60, 64, 67, 0.3), 0 1px 3px 1px rgba(60, 64, 67, 0.15);\n",
              "    fill: var(--button-hover-fill-color);\n",
              "  }\n",
              "\n",
              "  .colab-df-quickchart-complete:disabled,\n",
              "  .colab-df-quickchart-complete:disabled:hover {\n",
              "    background-color: var(--disabled-bg-color);\n",
              "    fill: var(--disabled-fill-color);\n",
              "    box-shadow: none;\n",
              "  }\n",
              "\n",
              "  .colab-df-spinner {\n",
              "    border: 2px solid var(--fill-color);\n",
              "    border-color: transparent;\n",
              "    border-bottom-color: var(--fill-color);\n",
              "    animation:\n",
              "      spin 1s steps(1) infinite;\n",
              "  }\n",
              "\n",
              "  @keyframes spin {\n",
              "    0% {\n",
              "      border-color: transparent;\n",
              "      border-bottom-color: var(--fill-color);\n",
              "      border-left-color: var(--fill-color);\n",
              "    }\n",
              "    20% {\n",
              "      border-color: transparent;\n",
              "      border-left-color: var(--fill-color);\n",
              "      border-top-color: var(--fill-color);\n",
              "    }\n",
              "    30% {\n",
              "      border-color: transparent;\n",
              "      border-left-color: var(--fill-color);\n",
              "      border-top-color: var(--fill-color);\n",
              "      border-right-color: var(--fill-color);\n",
              "    }\n",
              "    40% {\n",
              "      border-color: transparent;\n",
              "      border-right-color: var(--fill-color);\n",
              "      border-top-color: var(--fill-color);\n",
              "    }\n",
              "    60% {\n",
              "      border-color: transparent;\n",
              "      border-right-color: var(--fill-color);\n",
              "    }\n",
              "    80% {\n",
              "      border-color: transparent;\n",
              "      border-right-color: var(--fill-color);\n",
              "      border-bottom-color: var(--fill-color);\n",
              "    }\n",
              "    90% {\n",
              "      border-color: transparent;\n",
              "      border-bottom-color: var(--fill-color);\n",
              "    }\n",
              "  }\n",
              "</style>\n",
              "\n",
              "  <script>\n",
              "    async function quickchart(key) {\n",
              "      const quickchartButtonEl =\n",
              "        document.querySelector('#' + key + ' button');\n",
              "      quickchartButtonEl.disabled = true;  // To prevent multiple clicks.\n",
              "      quickchartButtonEl.classList.add('colab-df-spinner');\n",
              "      try {\n",
              "        const charts = await google.colab.kernel.invokeFunction(\n",
              "            'suggestCharts', [key], {});\n",
              "      } catch (error) {\n",
              "        console.error('Error during call to suggestCharts:', error);\n",
              "      }\n",
              "      quickchartButtonEl.classList.remove('colab-df-spinner');\n",
              "      quickchartButtonEl.classList.add('colab-df-quickchart-complete');\n",
              "    }\n",
              "    (() => {\n",
              "      let quickchartButtonEl =\n",
              "        document.querySelector('#df-b86c9ea0-ad40-4b0b-8513-467033f6f3c4 button');\n",
              "      quickchartButtonEl.style.display =\n",
              "        google.colab.kernel.accessAllowed ? 'block' : 'none';\n",
              "    })();\n",
              "  </script>\n",
              "</div>\n",
              "    </div>\n",
              "  </div>\n"
            ]
          },
          "metadata": {},
          "execution_count": 10
        }
      ]
    },
    {
      "cell_type": "code",
      "source": [
        "actual = [y.loc[10000],y.loc[8000],y.loc[55000]]\n",
        "actual"
      ],
      "metadata": {
        "colab": {
          "base_uri": "https://localhost:8080/"
        },
        "id": "PgrjXx8mo8he",
        "outputId": "7f9d6568-4ce0-4ed8-97d7-2c15beca3e31"
      },
      "execution_count": null,
      "outputs": [
        {
          "output_type": "execute_result",
          "data": {
            "text/plain": [
              "[5302.95, 13058.64, 50918.38]"
            ]
          },
          "metadata": {},
          "execution_count": 11
        }
      ]
    },
    {
      "cell_type": "code",
      "source": [
        "predicted = model.predict(data)\n",
        "\n",
        "predicted"
      ],
      "metadata": {
        "colab": {
          "base_uri": "https://localhost:8080/"
        },
        "id": "5TmfLFm9o8fo",
        "outputId": "33047fb1-da3f-4a8f-f334-1409065f29ec"
      },
      "execution_count": null,
      "outputs": [
        {
          "output_type": "execute_result",
          "data": {
            "text/plain": [
              "array([ 5287.264122, 13276.7817  , 50969.9316  ])"
            ]
          },
          "metadata": {},
          "execution_count": 12
        }
      ]
    },
    {
      "cell_type": "markdown",
      "source": [
        "**`Plot`**"
      ],
      "metadata": {
        "id": "5VDCC6jwpjLo"
      }
    },
    {
      "cell_type": "code",
      "source": [
        "difference = [actual[i]-predicted[i] for i in range(len(actual))]\n",
        "\n",
        "print(f'Difference : {difference}')\n",
        "\n",
        "print()\n",
        "\n",
        "plt.plot(actual,label='Actual',color='r')\n",
        "plt.plot(predicted,label='Predicted',color='g')\n",
        "plt.plot(difference,label='Difference',color='b')\n",
        "plt.legend()\n",
        "\n",
        "plt.title('Actual v.s Predicted Difference')\n",
        "plt.show()"
      ],
      "metadata": {
        "colab": {
          "base_uri": "https://localhost:8080/",
          "height": 487
        },
        "id": "yIqqoaSDo8dG",
        "outputId": "3cb34fd4-5c6f-4625-ef18-c722a8a682e8"
      },
      "execution_count": null,
      "outputs": [
        {
          "output_type": "stream",
          "name": "stdout",
          "text": [
            "Difference : [15.685877999997501, -218.14169999999467, -51.551599999955215]\n",
            "\n"
          ]
        },
        {
          "output_type": "display_data",
          "data": {
            "text/plain": [
              "<Figure size 640x480 with 1 Axes>"
            ],
            "image/png": "[encoded data removed]"
          },
          "metadata": {}
        }
      ]
    },
    {
      "cell_type": "markdown",
      "source": [
        "### **Feature Importance**"
      ],
      "metadata": {
        "id": "AS1z5ZhO0y29"
      }
    },
    {
      "cell_type": "code",
      "source": [
        "importance = model.feature_importances_\n",
        "importance"
      ],
      "metadata": {
        "colab": {
          "base_uri": "https://localhost:8080/"
        },
        "id": "1YDt86gw03j_",
        "outputId": "5fbdce29-68ba-4367-ed38-1d32050cbb69"
      },
      "execution_count": null,
      "outputs": [
        {
          "output_type": "execute_result",
          "data": {
            "text/plain": [
              "array([5.57493233e-02, 6.38358413e-01, 3.31422602e-04, 7.47447738e-03,\n",
              "       2.95362708e-03, 4.75498373e-03, 1.22613538e-02, 7.28577533e-04,\n",
              "       1.40620498e-02, 1.79420498e-01, 2.95477667e-03, 3.34606242e-03,\n",
              "       3.57109994e-02, 8.00482824e-03, 2.57766204e-03, 2.30629638e-02,\n",
              "       8.24798205e-03])"
            ]
          },
          "metadata": {},
          "execution_count": 14
        }
      ]
    },
    {
      "cell_type": "code",
      "source": [
        "feature = [i for i in x.columns]\n",
        "feature"
      ],
      "metadata": {
        "colab": {
          "base_uri": "https://localhost:8080/"
        },
        "id": "VvE_O5Ib1CSP",
        "outputId": "4fc994b9-bf81-45d4-b43f-5fe921aa50c2"
      },
      "execution_count": null,
      "outputs": [
        {
          "output_type": "execute_result",
          "data": {
            "text/plain": [
              "['Store',\n",
              " 'Dept',\n",
              " 'IsHoliday',\n",
              " 'Temperature',\n",
              " 'Fuel_Price',\n",
              " 'Day',\n",
              " 'Month',\n",
              " 'Year',\n",
              " 'Type',\n",
              " 'Size',\n",
              " 'MarkDown1',\n",
              " 'MarkDown2',\n",
              " 'MarkDown3',\n",
              " 'MarkDown4',\n",
              " 'MarkDown5',\n",
              " 'CPI',\n",
              " 'Unemployment']"
            ]
          },
          "metadata": {},
          "execution_count": 15
        }
      ]
    },
    {
      "cell_type": "code",
      "source": [
        "feature_importance = {}\n",
        "\n",
        "for i in range(len(feature)):\n",
        "     feature_importance.update({feature[i]:importance[i]*100})\n",
        "\n",
        "\n",
        "feature_importance"
      ],
      "metadata": {
        "colab": {
          "base_uri": "https://localhost:8080/"
        },
        "id": "QNDxaunw1GVz",
        "outputId": "71630316-ecdd-44d9-ec7a-0c08609fdfc3"
      },
      "execution_count": null,
      "outputs": [
        {
          "output_type": "execute_result",
          "data": {
            "text/plain": [
              "{'Store': 5.574932329200558,\n",
              " 'Dept': 63.83584125635981,\n",
              " 'IsHoliday': 0.03314226018688134,\n",
              " 'Temperature': 0.7474477376454275,\n",
              " 'Fuel_Price': 0.2953627080590145,\n",
              " 'Day': 0.4754983726403278,\n",
              " 'Month': 1.226135381489444,\n",
              " 'Year': 0.07285775330637642,\n",
              " 'Type': 1.4062049789927276,\n",
              " 'Size': 17.94204975371908,\n",
              " 'MarkDown1': 0.2954776668871168,\n",
              " 'MarkDown2': 0.33460624214850826,\n",
              " 'MarkDown3': 3.571099942698286,\n",
              " 'MarkDown4': 0.8004828237433986,\n",
              " 'MarkDown5': 0.2577662037275738,\n",
              " 'CPI': 2.3062963842033533,\n",
              " 'Unemployment': 0.8247982049921254}"
            ]
          },
          "metadata": {},
          "execution_count": 16
        }
      ]
    },
    {
      "cell_type": "code",
      "source": [
        "sorted_feature_importance  = dict(sorted(feature_importance.items(),key=lambda item : item[1],reverse=True))\n",
        "sorted_feature_importance"
      ],
      "metadata": {
        "colab": {
          "base_uri": "https://localhost:8080/"
        },
        "id": "QPF-F3tg1wod",
        "outputId": "3c5d8693-33f1-4fd9-c53a-6619897825b7"
      },
      "execution_count": null,
      "outputs": [
        {
          "output_type": "execute_result",
          "data": {
            "text/plain": [
              "{'Dept': 63.83584125635981,\n",
              " 'Size': 17.94204975371908,\n",
              " 'Store': 5.574932329200558,\n",
              " 'MarkDown3': 3.571099942698286,\n",
              " 'CPI': 2.3062963842033533,\n",
              " 'Type': 1.4062049789927276,\n",
              " 'Month': 1.226135381489444,\n",
              " 'Unemployment': 0.8247982049921254,\n",
              " 'MarkDown4': 0.8004828237433986,\n",
              " 'Temperature': 0.7474477376454275,\n",
              " 'Day': 0.4754983726403278,\n",
              " 'MarkDown2': 0.33460624214850826,\n",
              " 'MarkDown1': 0.2954776668871168,\n",
              " 'Fuel_Price': 0.2953627080590145,\n",
              " 'MarkDown5': 0.2577662037275738,\n",
              " 'Year': 0.07285775330637642,\n",
              " 'IsHoliday': 0.03314226018688134}"
            ]
          },
          "metadata": {},
          "execution_count": 17
        }
      ]
    },
    {
      "cell_type": "code",
      "source": [
        "plt.figure(figsize=(10,7))\n",
        "sns.barplot(x=[i for i in sorted_feature_importance.values()],y=[i for i in sorted_feature_importance.keys()],color='g').set(title='Feature Importance Using Random Forest Regressor')\n",
        "plt.show()"
      ],
      "metadata": {
        "colab": {
          "base_uri": "https://localhost:8080/"
        },
        "id": "AwXlF4dg2HiF",
        "outputId": "b8e508d7-32ed-4c6d-864f-ad45aad875ac"
      },
      "execution_count": null,
      "outputs": [
        {
          "output_type": "display_data",
          "data": {
            "text/plain": [
              "<Figure size 1000x700 with 1 Axes>"
            ],
            "image/png": "[encoded data removed]"
          },
          "metadata": {}
        }
      ]
    },
    {
      "cell_type": "markdown",
      "metadata": {
        "id": "Koa04eRHUaZr"
      },
      "source": [
        "### **Pickle File**"
      ]
    },
    {
      "cell_type": "markdown",
      "source": [
        "**Download The Model**"
      ],
      "metadata": {
        "id": "TrdisVf0lKdx"
      }
    },
    {
      "cell_type": "code",
      "source": [
        "with open('regressor_model.pkl','wb') as f:\n",
        "  pickle.dump(model,f)"
      ],
      "metadata": {
        "id": "70JgBe7QkzlH"
      },
      "execution_count": null,
      "outputs": []
    },
    {
      "cell_type": "markdown",
      "source": [
        "\n",
        "\n",
        "```                                                               \n",
        "                                                     Finished\n",
        "```\n",
        "\n"
      ],
      "metadata": {
        "id": "xYVFvZbilahP"
      }
    }
  ],
  "metadata": {
    "colab": {
      "collapsed_sections": [
        "0pdke7wgRwH6",
        "PrFgqxEPSKXn",
        "klpsM5r04Qlb",
        "yNQgjCQre-1l",
        "nYi_6gGljG_b",
        "PPILS4esomGt",
        "SaZHAl1opSQq",
        "AS1z5ZhO0y29",
        "Koa04eRHUaZr"
      ],
      "provenance": []
    },
    "kernelspec": {
      "display_name": "Python 3",
      "name": "python3"
    },
    "language_info": {
      "name": "python"
    }
  },
  "nbformat": 4,
  "nbformat_minor": 0
}